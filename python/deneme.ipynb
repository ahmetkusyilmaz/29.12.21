def solution(n):
    n=input("Enter two-digit integer number: ")
    sum=0
    for i in str(n):
        sum+=int(i)
    return sum